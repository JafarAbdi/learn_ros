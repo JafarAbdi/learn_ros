{
 "cells": [
  {
   "cell_type": "code",
   "execution_count": 1,
   "metadata": {
    "collapsed": true
   },
   "outputs": [],
   "source": [
    "import tf\n",
    "import numpy as np"
   ]
  },
  {
   "cell_type": "code",
   "execution_count": 11,
   "metadata": {
    "collapsed": true
   },
   "outputs": [],
   "source": [
    "def homo_transformation(alpha, a, d, theta):\n",
    "\n",
    "    rot_x   = tf.transformations.rotation_matrix(alpha, [1, 0, 0])\n",
    "    trans_x = tf.transformations.translation_matrix([a, 0.0, 0.0])\n",
    "    rot_z   = tf.transformations.rotation_matrix(theta, [0, 0, 1])\n",
    "    trans_z = tf.transformations.translation_matrix([0.0, 0.0, d])\n",
    "    \n",
    "    return tf.transformations.concatenate_matrices(rot_x, trans_x, rot_z, trans_z)\n"
   ]
  },
  {
   "cell_type": "markdown",
   "metadata": {},
   "source": [
    "# FK of UR3 https://github.com/ros-industrial/universal_robot"
   ]
  },
  {
   "cell_type": "code",
   "execution_count": 15,
   "metadata": {
    "collapsed": true
   },
   "outputs": [],
   "source": [
    "T01 = homo_transformation(       0,        0,  0.1519, 0)\n",
    "T12 = homo_transformation(-np.pi/2,        0,  0.1198, 0)\n",
    "T23 = homo_transformation(       0,  0.24365, -0.0925, 0)\n",
    "T34 = homo_transformation(       0, 0.221325, 0.08505, 0)\n",
    "T45 = homo_transformation(-np.pi/2,        0, 0.08535, 0)\n",
    "T56 = homo_transformation( np.pi/2,        0,  0.0819, 0)"
   ]
  },
  {
   "cell_type": "code",
   "execution_count": 22,
   "metadata": {},
   "outputs": [],
   "source": [
    "Cor = homo_transformation(np.pi/2, 0, 0, 0)\n",
    "T = tf.transformations.concatenate_matrices(T01, T12, T23, T34, T45, T56, Cor)\n"
   ]
  },
  {
   "cell_type": "code",
   "execution_count": 23,
   "metadata": {},
   "outputs": [
    {
     "data": {
      "text/plain": [
       "array([[ 1.      ,  0.      ,  0.      ,  0.464975],\n",
       "       [ 0.      ,  1.      ,  0.      ,  0.19425 ],\n",
       "       [ 0.      ,  0.      ,  1.      ,  0.06655 ],\n",
       "       [ 0.      ,  0.      ,  0.      ,  1.      ]])"
      ]
     },
     "execution_count": 23,
     "metadata": {},
     "output_type": "execute_result"
    }
   ],
   "source": [
    "T.round(7)"
   ]
  },
  {
   "cell_type": "markdown",
   "metadata": {},
   "source": [
    "# using symbolic "
   ]
  },
  {
   "cell_type": "code",
   "execution_count": 25,
   "metadata": {
    "collapsed": true
   },
   "outputs": [],
   "source": [
    "from sympy import *"
   ]
  },
  {
   "cell_type": "code",
   "execution_count": 30,
   "metadata": {
    "collapsed": true
   },
   "outputs": [],
   "source": [
    "alpha0, alpha1, alpha2, alpha3, alpha4, alpha5 = symbols('alpha0:6')\n",
    "a0, a1, a2, a3, a4, a5 = symbols('a0:6')\n",
    "d1, d2, d3, d4, d5, d6 = symbols('d1:7')\n",
    "q1, q2, q3, q4, q5, q6 = symbols('q1:7')\n",
    "\n",
    "def homo_trans(alpha, a, d, q):\n",
    "    T = Matrix([[           cos(q),           -sin(q),           0,             a],\n",
    "                [sin(q)*cos(alpha), cos(q)*cos(alpha), -sin(alpha), -sin(alpha)*d],\n",
    "                [sin(q)*sin(alpha), cos(q)*sin(alpha),  cos(alpha),  cos(alpha)*d],\n",
    "                [                0,                 0,           0,             1]])\n",
    "    return(T)"
   ]
  },
  {
   "cell_type": "code",
   "execution_count": 28,
   "metadata": {
    "collapsed": true
   },
   "outputs": [],
   "source": [
    "dh_params = {alpha0:     0, a0:       0, d1:  0.1519,\n",
    "             alpha1: -pi/2, a1:       0, d2:  0.1198,\n",
    "             alpha2:     0, a2: 0.24365, d3: -0.0925,\n",
    "             alpha3:     0, a3: 0.21325, d4: 0.08505,\n",
    "             alpha4: -pi/2, a4:       0, d5: 0.08535,\n",
    "             alpha5:  pi/2, a5:       0, d6:  0.0819}"
   ]
  },
  {
   "cell_type": "code",
   "execution_count": 58,
   "metadata": {},
   "outputs": [],
   "source": [
    "T01 = simplify(homo_trans(alpha0, a0, d1, q1).subs(dh_params))\n",
    "T12 = simplify(homo_trans(alpha1, a1, d2, q2).subs(dh_params))\n",
    "T23 = simplify(homo_trans(alpha2, a2, d3, q3).subs(dh_params))\n",
    "T34 = simplify(homo_trans(alpha3, a3, d4, q4).subs(dh_params))\n",
    "T45 = simplify(homo_trans(alpha4, a4, d5, q5).subs(dh_params))\n",
    "T56 = simplify(homo_trans(alpha5, a5, d6, q6).subs(dh_params))\n",
    "Cor = simplify(homo_trans(  pi/2,  0,  0,  0))"
   ]
  },
  {
   "cell_type": "code",
   "execution_count": 59,
   "metadata": {},
   "outputs": [],
   "source": [
    "T = T01 * T12 * T23 * T34 * T45 * T56 * Cor"
   ]
  },
  {
   "cell_type": "code",
   "execution_count": 60,
   "metadata": {},
   "outputs": [],
   "source": [
    "T = simplify(T)"
   ]
  },
  {
   "cell_type": "code",
   "execution_count": 47,
   "metadata": {},
   "outputs": [
    {
     "data": {
      "text/plain": [
       "Matrix([\n",
       "[1.0,   0,   0,  0.4569],\n",
       "[  0, 1.0,   0, 0.19425],\n",
       "[  0,   0, 1.0, 0.06655],\n",
       "[  0,   0,   0,     1.0]])"
      ]
     },
     "execution_count": 47,
     "metadata": {},
     "output_type": "execute_result"
    }
   ],
   "source": [
    "T.subs({q1:0 ,q2:0 ,q3:0 ,q4:0 ,q5:0 ,q6:0 })"
   ]
  },
  {
   "cell_type": "code",
   "execution_count": 65,
   "metadata": {
    "collapsed": true
   },
   "outputs": [],
   "source": [
    "T3ee = T34 * T45 * T56 #* Cor"
   ]
  },
  {
   "cell_type": "code",
   "execution_count": 66,
   "metadata": {
    "collapsed": true
   },
   "outputs": [],
   "source": [
    "T3ee = simplify(T3ee)"
   ]
  },
  {
   "cell_type": "code",
   "execution_count": 67,
   "metadata": {},
   "outputs": [
    {
     "name": "stdout",
     "output_type": "stream",
     "text": [
      "Matrix([\n",
      "[-sin(q4)*sin(q6) + cos(q4)*cos(q5)*cos(q6), -sin(q4)*cos(q6) - sin(q6)*cos(q4)*cos(q5), sin(q5)*cos(q4)],\n",
      "[ sin(q4)*cos(q5)*cos(q6) + sin(q6)*cos(q4), -sin(q4)*sin(q6)*cos(q5) + cos(q4)*cos(q6), sin(q4)*sin(q5)],\n",
      "[                          -sin(q5)*cos(q6),                            sin(q5)*sin(q6),         cos(q5)]])\n"
     ]
    }
   ],
   "source": [
    "print(T3ee[:3,:3])"
   ]
  },
  {
   "cell_type": "code",
   "execution_count": 129,
   "metadata": {},
   "outputs": [],
   "source": [
    "Rx_e = rot_axis1(q1)\n",
    "Ry_e = rot_axis2(q2)\n",
    "Rz_e = rot_axis3(q3)\n",
    "Rx_i = rot_axis1(q1)\n",
    "Ry_i = rot_axis2(q2)\n",
    "Rz_i = rot_axis3(q3)"
   ]
  },
  {
   "cell_type": "code",
   "execution_count": 130,
   "metadata": {},
   "outputs": [
    {
     "data": {
      "text/plain": [
       "Matrix([\n",
       "[                          cos(q2)*cos(q3),                            sin(q3)*cos(q2),        -sin(q2)],\n",
       "[sin(q1)*sin(q2)*cos(q3) - sin(q3)*cos(q1),  sin(q1)*sin(q2)*sin(q3) + cos(q1)*cos(q3), sin(q1)*cos(q2)],\n",
       "[sin(q1)*sin(q3) + sin(q2)*cos(q1)*cos(q3), -sin(q1)*cos(q3) + sin(q2)*sin(q3)*cos(q1), cos(q1)*cos(q2)]])"
      ]
     },
     "execution_count": 130,
     "metadata": {},
     "output_type": "execute_result"
    }
   ],
   "source": [
    "simplify(Rx_i * Ry_i * Rz_i)"
   ]
  },
  {
   "cell_type": "code",
   "execution_count": 131,
   "metadata": {},
   "outputs": [
    {
     "data": {
      "text/plain": [
       "Matrix([\n",
       "[ cos(q2)*cos(q3),  sin(q1)*sin(q2)*cos(q3) + sin(q3)*cos(q1), sin(q1)*sin(q3) - sin(q2)*cos(q1)*cos(q3)],\n",
       "[-sin(q3)*cos(q2), -sin(q1)*sin(q2)*sin(q3) + cos(q1)*cos(q3), sin(q1)*cos(q3) + sin(q2)*sin(q3)*cos(q1)],\n",
       "[         sin(q2),                           -sin(q1)*cos(q2),                           cos(q1)*cos(q2)]])"
      ]
     },
     "execution_count": 131,
     "metadata": {},
     "output_type": "execute_result"
    }
   ],
   "source": [
    "simplify(Rz_e * Ry_e * Rx_e)"
   ]
  },
  {
   "cell_type": "code",
   "execution_count": null,
   "metadata": {
    "collapsed": true
   },
   "outputs": [],
   "source": []
  }
 ],
 "metadata": {
  "kernelspec": {
   "display_name": "Python 2",
   "language": "python",
   "name": "python2"
  },
  "language_info": {
   "codemirror_mode": {
    "name": "ipython",
    "version": 2
   },
   "file_extension": ".py",
   "mimetype": "text/x-python",
   "name": "python",
   "nbconvert_exporter": "python",
   "pygments_lexer": "ipython2",
   "version": "2.7.12"
  }
 },
 "nbformat": 4,
 "nbformat_minor": 2
}
